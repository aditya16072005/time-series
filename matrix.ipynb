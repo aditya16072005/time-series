{
 "cells": [
  {
   "cell_type": "code",
   "execution_count": 1,
   "id": "621c5419",
   "metadata": {},
   "outputs": [],
   "source": [
    "import random"
   ]
  },
  {
   "cell_type": "code",
   "execution_count": 21,
   "id": "7eaac91a",
   "metadata": {},
   "outputs": [],
   "source": [
    "def create_matrix():\n",
    "    return [[random.randint(-100, 100) for _ in range(4)] for _ in range(4)]\n"
   ]
  },
  {
   "cell_type": "code",
   "execution_count": 12,
   "id": "a83e0a79",
   "metadata": {},
   "outputs": [],
   "source": [
    "def transpose(matrix):\n",
    "    return [[matrix[j][i] for j in range(len(matrix))] for i in range(len(matrix))]"
   ]
  },
  {
   "cell_type": "code",
   "execution_count": 13,
   "id": "447a7f17",
   "metadata": {},
   "outputs": [],
   "source": [
    "def multiply_matrices(mat1, mat2):\n",
    "    result = [[sum(a * b for a, b in zip(row1, col2)) for col2 in zip(*mat2)] for row1 in mat1]\n",
    "    return result"
   ]
  },
  {
   "cell_type": "code",
   "execution_count": 14,
   "id": "9c9fc01a",
   "metadata": {},
   "outputs": [],
   "source": [
    "original_matrix = create_matrix()"
   ]
  },
  {
   "cell_type": "code",
   "execution_count": 15,
   "id": "8f5e3da3",
   "metadata": {},
   "outputs": [
    {
     "name": "stdout",
     "output_type": "stream",
     "text": [
      "Original Matrix:\n",
      "[66, -18, -65, 28]\n",
      "[55, -91, -72, 99]\n",
      "[-86, -49, -17, -26]\n",
      "[-57, 70, -95, 98]\n"
     ]
    }
   ],
   "source": [
    "print(\"Original Matrix:\")\n",
    "for row in original_matrix:\n",
    "    print(row)\n"
   ]
  },
  {
   "cell_type": "code",
   "execution_count": 16,
   "id": "586ebb7d",
   "metadata": {},
   "outputs": [],
   "source": [
    "transposed_matrix = transpose(original_matrix)"
   ]
  },
  {
   "cell_type": "code",
   "execution_count": 17,
   "id": "1bc422f2",
   "metadata": {},
   "outputs": [
    {
     "name": "stdout",
     "output_type": "stream",
     "text": [
      "\n",
      "Transposed Matrix:\n",
      "[66, 55, -86, -57]\n",
      "[-18, -91, -49, 70]\n",
      "[-65, -72, -17, -95]\n",
      "[28, 99, -26, 98]\n"
     ]
    }
   ],
   "source": [
    "print(\"\\nTransposed Matrix:\")\n",
    "for row in transposed_matrix:\n",
    "    print(row)"
   ]
  },
  {
   "cell_type": "code",
   "execution_count": 18,
   "id": "ee567147",
   "metadata": {},
   "outputs": [],
   "source": [
    "result_matrix = multiply_matrices(original_matrix, transposed_matrix)"
   ]
  },
  {
   "cell_type": "code",
   "execution_count": 23,
   "id": "c0a0cbcc",
   "metadata": {},
   "outputs": [
    {
     "name": "stdout",
     "output_type": "stream",
     "text": [
      "\n",
      "Matrix Multiplied:\n",
      "[9689, 12720, -4417, 3897]\n",
      "[12720, 26291, -1621, 7037]\n",
      "[-4417, -1621, 10762, 539]\n",
      "[3897, 7037, 539, 26778]\n"
     ]
    }
   ],
   "source": [
    "print(\"\\nMatrix Multiplied:\")\n",
    "for row in result_matrix:\n",
    "    print(row)"
   ]
  },
  {
   "cell_type": "code",
   "execution_count": null,
   "id": "1459815b",
   "metadata": {},
   "outputs": [],
   "source": []
  }
 ],
 "metadata": {
  "kernelspec": {
   "display_name": "Python 3 (ipykernel)",
   "language": "python",
   "name": "python3"
  },
  "language_info": {
   "codemirror_mode": {
    "name": "ipython",
    "version": 3
   },
   "file_extension": ".py",
   "mimetype": "text/x-python",
   "name": "python",
   "nbconvert_exporter": "python",
   "pygments_lexer": "ipython3",
   "version": "3.11.5"
  }
 },
 "nbformat": 4,
 "nbformat_minor": 5
}
