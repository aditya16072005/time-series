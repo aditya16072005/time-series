{
 "cells": [
  {
   "cell_type": "code",
   "execution_count": 1,
   "id": "97df4711",
   "metadata": {},
   "outputs": [],
   "source": [
    "# ans 1\n",
    "import numpy as np"
   ]
  },
  {
   "cell_type": "code",
   "execution_count": 2,
   "id": "9c037bb1",
   "metadata": {},
   "outputs": [],
   "source": [
    "X = np.array([2, 8, 18, 20, 28, 30])\n",
    "Y = np.array([5, 12, 18, 23, 45, 50])"
   ]
  },
  {
   "cell_type": "code",
   "execution_count": 4,
   "id": "aa31747d",
   "metadata": {},
   "outputs": [],
   "source": [
    "mean_X = np.mean(X)\n",
    "mean_Y = np.mean(Y)"
   ]
  },
  {
   "cell_type": "code",
   "execution_count": 5,
   "id": "0e85df6d",
   "metadata": {},
   "outputs": [],
   "source": [
    "covariance = np.sum((X - mean_X) * (Y - mean_Y)) / (len(X) - 1)"
   ]
  },
  {
   "cell_type": "code",
   "execution_count": 7,
   "id": "605e49dd",
   "metadata": {},
   "outputs": [],
   "source": [
    "std_dev_X = np.std(X, ddof=1)\n",
    "std_dev_Y = np.std(Y, ddof=1)"
   ]
  },
  {
   "cell_type": "code",
   "execution_count": 8,
   "id": "e7c044a5",
   "metadata": {},
   "outputs": [
    {
     "name": "stdout",
     "output_type": "stream",
     "text": [
      "Covariance: 189.4\n",
      "Correlation coefficient: 0.9504349008230754\n"
     ]
    }
   ],
   "source": [
    "correlation = covariance / (std_dev_X * std_dev_Y)\n",
    "print(f\"Covariance: {covariance}\")\n",
    "print(f\"Correlation coefficient: {correlation}\")"
   ]
  },
  {
   "cell_type": "code",
   "execution_count": null,
   "id": "b67ccf7b",
   "metadata": {},
   "outputs": [],
   "source": [
    "# ans 2 c>(i),(ii), and (iii)"
   ]
  }
 ],
 "metadata": {
  "kernelspec": {
   "display_name": "Python 3 (ipykernel)",
   "language": "python",
   "name": "python3"
  },
  "language_info": {
   "codemirror_mode": {
    "name": "ipython",
    "version": 3
   },
   "file_extension": ".py",
   "mimetype": "text/x-python",
   "name": "python",
   "nbconvert_exporter": "python",
   "pygments_lexer": "ipython3",
   "version": "3.11.5"
  }
 },
 "nbformat": 4,
 "nbformat_minor": 5
}
